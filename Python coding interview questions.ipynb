{
 "cells": [
  {
   "cell_type": "markdown",
   "metadata": {},
   "source": [
    "# Python Basic Coding Interview Questions"
   ]
  },
  {
   "cell_type": "markdown",
   "metadata": {},
   "source": [
    "### Q1: Write a program to print “Hello, World!”."
   ]
  },
  {
   "cell_type": "code",
   "execution_count": 1,
   "metadata": {},
   "outputs": [
    {
     "name": "stdout",
     "output_type": "stream",
     "text": [
      "Hello, World!\n"
     ]
    }
   ],
   "source": [
    "print(\"Hello, World!\")"
   ]
  },
  {
   "cell_type": "markdown",
   "metadata": {},
   "source": [
    "### Q2: Write a program to check if a number is even or odd."
   ]
  },
  {
   "cell_type": "code",
   "execution_count": 2,
   "metadata": {},
   "outputs": [
    {
     "name": "stdout",
     "output_type": "stream",
     "text": [
      "Even\n"
     ]
    }
   ],
   "source": [
    "number = int(input(\"Enter Number: \"))\n",
    "if number % 2 == 0:\n",
    "    print(\"Even\")\n",
    "else:\n",
    "    print(\"Odd\")"
   ]
  },
  {
   "cell_type": "markdown",
   "metadata": {},
   "source": [
    "### Q3: Write a program to find the sum of all numbers in a list."
   ]
  },
  {
   "cell_type": "code",
   "execution_count": 3,
   "metadata": {},
   "outputs": [
    {
     "name": "stdout",
     "output_type": "stream",
     "text": [
      "90\n"
     ]
    }
   ],
   "source": [
    "numbers = [1, 2, 5, 6, 10, 15, 21, 30]\n",
    "sum = 0\n",
    "for i in numbers:\n",
    "    sum += i\n",
    "print(sum)"
   ]
  },
  {
   "cell_type": "markdown",
   "metadata": {},
   "source": [
    "### Q4: Write a program to find the largest number in a list."
   ]
  },
  {
   "cell_type": "code",
   "execution_count": 4,
   "metadata": {},
   "outputs": [
    {
     "name": "stdout",
     "output_type": "stream",
     "text": [
      "60\n"
     ]
    }
   ],
   "source": [
    "numbers = [1, 3, 6, 10, 15, 30, 60]\n",
    "largest  = numbers[0]\n",
    "for i in range(1, len(numbers)):\n",
    "    if numbers[i] > largest:\n",
    "        largest = numbers[i]\n",
    "print(largest)"
   ]
  },
  {
   "cell_type": "markdown",
   "metadata": {},
   "source": [
    "### Q5: Write a program to reverse a string. "
   ]
  },
  {
   "cell_type": "code",
   "execution_count": 5,
   "metadata": {},
   "outputs": [
    {
     "name": "stdout",
     "output_type": "stream",
     "text": [
      "malsI\n"
     ]
    }
   ],
   "source": [
    "s = \"Islam\"\n",
    "r = s[::-1]\n",
    "print(r)"
   ]
  },
  {
   "cell_type": "markdown",
   "metadata": {},
   "source": [
    "### Q6: Write a program to check if a string is a palindrome."
   ]
  },
  {
   "cell_type": "code",
   "execution_count": 6,
   "metadata": {},
   "outputs": [
    {
     "name": "stdout",
     "output_type": "stream",
     "text": [
      "The string is a Palindrome\n"
     ]
    }
   ],
   "source": [
    "s = input(\"Enter String: \")\n",
    "r = s[::-1]\n",
    "if s == r:\n",
    "    print(\"The string is a Palindrome\")\n",
    "else:\n",
    "    print(\"The string is Not a Palindrome\")"
   ]
  },
  {
   "cell_type": "markdown",
   "metadata": {},
   "source": [
    "### Q7: Write a program to find the factorial of a number. "
   ]
  },
  {
   "cell_type": "code",
   "execution_count": 7,
   "metadata": {},
   "outputs": [
    {
     "name": "stdout",
     "output_type": "stream",
     "text": [
      "1\n"
     ]
    }
   ],
   "source": [
    "def factorial(n):\n",
    "    fact = 1\n",
    "    for i in range(1, n + 1):\n",
    "        fact *= i\n",
    "    return fact\n",
    "\n",
    "print(factorial(0))"
   ]
  },
  {
   "cell_type": "markdown",
   "metadata": {},
   "source": [
    "### Q8: Write a program to check if a number is prime."
   ]
  },
  {
   "cell_type": "code",
   "execution_count": 8,
   "metadata": {},
   "outputs": [
    {
     "name": "stdout",
     "output_type": "stream",
     "text": [
      "The Number is Not Prime\n"
     ]
    }
   ],
   "source": [
    "def prime(n):\n",
    "    for i in range(2, n):\n",
    "        if n % i == 0:\n",
    "            return False\n",
    "    return True\n",
    "\n",
    "number = int(input(\"Enter Number: \"))\n",
    "if prime(number):\n",
    "    print(\"The Number is Prime\")\n",
    "else:\n",
    "    print(\"The Number is Not Prime\")"
   ]
  },
  {
   "cell_type": "markdown",
   "metadata": {},
   "source": [
    "### Q9: Write a program to find the Fibonacci series up to a given number."
   ]
  },
  {
   "cell_type": "code",
   "execution_count": 9,
   "metadata": {},
   "outputs": [
    {
     "name": "stdout",
     "output_type": "stream",
     "text": [
      "[0, 1, 1, 2, 3, 5, 8, 13, 21, 34, 55, 89, 144, 233, 377, 610, 987, 1597, 2584, 4181, 6765]\n"
     ]
    }
   ],
   "source": [
    "def generate_fibonacci(number):\n",
    "    fibonacci_series = [0, 1]\n",
    "    for i in range(2, number + 1):\n",
    "        fibonacci_series.append(fibonacci_series[i - 1] + fibonacci_series[i - 2])\n",
    "    return fibonacci_series\n",
    "\n",
    "print(generate_fibonacci(20))"
   ]
  },
  {
   "cell_type": "markdown",
   "metadata": {},
   "source": [
    "### Q10: Write a program to convert Celsius to Fahrenheit."
   ]
  },
  {
   "cell_type": "code",
   "execution_count": 10,
   "metadata": {},
   "outputs": [
    {
     "name": "stdout",
     "output_type": "stream",
     "text": [
      "Temperature in Fahrenheit: 50.0\n"
     ]
    }
   ],
   "source": [
    "def celsius_to_fahrenheit(celsius):\n",
    "    fahrenheit = celsius * 9/5 + 32\n",
    "    return fahrenheit\n",
    "\n",
    "celsius = float(input(\"Enter the temperature in Celsius: \"))\n",
    "fahrenheit = celsius_to_fahrenheit(celsius)\n",
    "print(\"Temperature in Fahrenheit:\", fahrenheit)"
   ]
  },
  {
   "cell_type": "markdown",
   "metadata": {},
   "source": [
    "### Q11: Write a Python program to count the frequency of each element."
   ]
  },
  {
   "cell_type": "code",
   "execution_count": 11,
   "metadata": {},
   "outputs": [
    {
     "name": "stdout",
     "output_type": "stream",
     "text": [
      "{1: 2, 2: 3, 3: 2, 4: 2, 5: 1}\n"
     ]
    }
   ],
   "source": [
    "def count_frequency(numbers):\n",
    "    frequency = {}\n",
    "    for num in numbers:\n",
    "        if num in frequency:\n",
    "            frequency[num] += 1\n",
    "        else:\n",
    "            frequency[num] = 1\n",
    "    return frequency\n",
    "\n",
    "# Test the function\n",
    "nums = [1, 2, 3, 2, 1, 3, 2, 4, 5, 4]\n",
    "frequency_count = count_frequency(nums)\n",
    "print(frequency_count)"
   ]
  },
  {
   "cell_type": "markdown",
   "metadata": {},
   "source": [
    "### Q12: Write a Python program to find the common elements between two lists."
   ]
  },
  {
   "cell_type": "code",
   "execution_count": 12,
   "metadata": {},
   "outputs": [
    {
     "name": "stdout",
     "output_type": "stream",
     "text": [
      "[4, 5]\n"
     ]
    }
   ],
   "source": [
    "def find_common_elements(list1, list2):\n",
    "    common_elements = []\n",
    "    for i in list1:\n",
    "        if i in list2:\n",
    "            common_elements.append(i)\n",
    "    return common_elements\n",
    "\n",
    "# Test the function\n",
    "list_a = [1, 2, 3, 4, 5]\n",
    "list_b = [4, 5, 6, 7, 8]\n",
    "common = find_common_elements(list_a, list_b)\n",
    "print(common)"
   ]
  },
  {
   "cell_type": "markdown",
   "metadata": {},
   "source": [
    "### Q13: Write a Python program to sort a list of elements using the bubble sort algorithm."
   ]
  },
  {
   "cell_type": "code",
   "execution_count": 13,
   "metadata": {},
   "outputs": [
    {
     "name": "stdout",
     "output_type": "stream",
     "text": [
      "[1, 2, 5, 8, 9]\n"
     ]
    }
   ],
   "source": [
    "def bubble_sort(elements):\n",
    "    n = len(elements)\n",
    "    for i in range(n - 1):\n",
    "        for j in range(n - i - 1):\n",
    "            if elements[j] > elements[j + 1]:\n",
    "                elements[j], elements[j + 1] = elements[j + 1], elements[j] # Swap\n",
    "\n",
    "# Test the function\n",
    "nums = [5, 2, 8, 1, 9]\n",
    "bubble_sort(nums)\n",
    "print(nums)"
   ]
  },
  {
   "cell_type": "markdown",
   "metadata": {},
   "source": [
    "### Q14: Write a Python program to remove duplicates from a list."
   ]
  },
  {
   "cell_type": "code",
   "execution_count": 14,
   "metadata": {},
   "outputs": [
    {
     "name": "stdout",
     "output_type": "stream",
     "text": [
      "[1, 2, 3, 4, 5]\n"
     ]
    }
   ],
   "source": [
    "def remove_duplicates(numbers):\n",
    "    unique_numbers = []\n",
    "    for i in numbers:\n",
    "        if i not in unique_numbers:\n",
    "            unique_numbers.append(i)\n",
    "    return unique_numbers\n",
    "\n",
    "# Test the function\n",
    "nums = [1, 2, 3, 2, 1, 3, 2, 4, 5, 4]\n",
    "unique_nums = remove_duplicates(nums)\n",
    "print(unique_nums)"
   ]
  },
  {
   "cell_type": "markdown",
   "metadata": {},
   "source": [
    "### Q15: Write a Python program to find the second largest number in a list."
   ]
  },
  {
   "cell_type": "code",
   "execution_count": 15,
   "metadata": {},
   "outputs": [
    {
     "name": "stdout",
     "output_type": "stream",
     "text": [
      "The second largest number is 10\n"
     ]
    }
   ],
   "source": [
    "def find_second_largest(numbers):\n",
    "    largest = float('-inf')\n",
    "    second_largest = float('-inf')\n",
    "    for num in numbers:\n",
    "        if num > largest:\n",
    "            second_largest = largest\n",
    "            largest = num\n",
    "        elif num > second_largest and num != largest:\n",
    "            second_largest = num\n",
    "    return second_largest\n",
    "\n",
    "# Test the function\n",
    "nums = [10, 5, 8, 20, 3]\n",
    "second_largest_num = find_second_largest(nums)\n",
    "print(f\"The second largest number is {second_largest_num}\")"
   ]
  },
  {
   "cell_type": "markdown",
   "metadata": {},
   "source": [
    "### Q16: Write me a code that wraps the numbers from 1 to 100 and if:\n",
    "- The number is divisible by 3. Print the number and the letter 'a'\n",
    "- The number is divisible by 5. Print the number and the letter 'b'\n",
    "- The number is divisible by 7. Print the number and the letter 'c'\n",
    "- The number is divisible by 15. Print the number and the letter 'ab'\n",
    "- The number is divisible by 21. Print the number and the letter 'ac'"
   ]
  },
  {
   "cell_type": "code",
   "execution_count": 16,
   "metadata": {},
   "outputs": [
    {
     "name": "stdout",
     "output_type": "stream",
     "text": [
      "\n",
      "\n",
      "3, a \n",
      "\n",
      "5, b \n",
      "6, a \n",
      "7, c \n",
      "\n",
      "9, a \n",
      "10, b \n",
      "\n",
      "12, a \n",
      "\n",
      "14, c \n",
      "15, ab \n",
      "\n",
      "\n",
      "18, a \n",
      "\n",
      "20, b \n",
      "21, ac \n",
      "\n",
      "\n",
      "24, a \n",
      "25, b \n",
      "\n",
      "27, a \n",
      "28, c \n",
      "\n",
      "30, ab \n",
      "\n",
      "\n",
      "33, a \n",
      "\n",
      "35, b 35, c \n",
      "36, a \n",
      "\n",
      "\n",
      "39, a \n",
      "40, b \n",
      "\n",
      "42, ac \n",
      "\n",
      "\n",
      "45, ab \n",
      "\n",
      "\n",
      "48, a \n",
      "49, c \n",
      "50, b \n",
      "51, a \n",
      "\n",
      "\n",
      "54, a \n",
      "55, b \n",
      "56, c \n",
      "57, a \n",
      "\n",
      "\n",
      "60, ab \n",
      "\n",
      "\n",
      "63, ac \n",
      "\n",
      "65, b \n",
      "66, a \n",
      "\n",
      "\n",
      "69, a \n",
      "70, b 70, c \n",
      "\n",
      "72, a \n",
      "\n",
      "\n",
      "75, ab \n",
      "\n",
      "77, c \n",
      "78, a \n",
      "\n",
      "80, b \n",
      "81, a \n",
      "\n",
      "\n",
      "84, ac \n",
      "85, b \n",
      "\n",
      "87, a \n",
      "\n",
      "\n",
      "90, ab \n",
      "91, c \n",
      "\n",
      "93, a \n",
      "\n",
      "95, b \n",
      "96, a \n",
      "\n",
      "98, c \n",
      "99, a \n",
      "100, b \n"
     ]
    }
   ],
   "source": [
    "for num in range(1, 101):\n",
    "    output = \"\"\n",
    "    if num % 3 == 0:\n",
    "        output += str(num) + \", a \"\n",
    "    if num % 5 == 0:\n",
    "        output += str(num) + \", b \"\n",
    "    if num % 7 == 0:\n",
    "        output += str(num) + \", c \"\n",
    "    if num % 15 == 0:\n",
    "        output = str(num) + \", ab \"\n",
    "    if num % 21 == 0:\n",
    "        output = str(num) + \", ac \"\n",
    "    print(output)"
   ]
  },
  {
   "cell_type": "markdown",
   "metadata": {},
   "source": [
    "### Q17: Write a code that wraps the numbers from 1 to 10,000, and if:\n",
    "- The sum of the factorial of the digits that make up the number is equal to the number itself. Print this number."
   ]
  },
  {
   "cell_type": "code",
   "execution_count": 17,
   "metadata": {},
   "outputs": [
    {
     "name": "stdout",
     "output_type": "stream",
     "text": [
      "1\n",
      "2\n",
      "145\n"
     ]
    }
   ],
   "source": [
    "def fact(n):\n",
    "    f = 1\n",
    "    for i in range(1, n + 1):\n",
    "        f = f * i\n",
    "    return f\n",
    "\n",
    "for i in range(1, 10001):\n",
    "    s = str(i)\n",
    "    count = 0\n",
    "    for j in range(len(s)):\n",
    "        count += fact(int(s[j]))\n",
    "    if count == i:\n",
    "        print(i)"
   ]
  },
  {
   "cell_type": "markdown",
   "metadata": {},
   "source": [
    "### Q18: Write code to implement the polynomial function so that it takes the parameters of x and the value of x and returns the sign of y."
   ]
  },
  {
   "cell_type": "code",
   "execution_count": 18,
   "metadata": {},
   "outputs": [
    {
     "name": "stdout",
     "output_type": "stream",
     "text": [
      "-1\n"
     ]
    }
   ],
   "source": [
    "def polynomial(x, list_x):\n",
    "    y = 0\n",
    "    for i in list_x:\n",
    "        y += x * i \n",
    "    if y > 0:\n",
    "        return 1\n",
    "    elif y < 0:\n",
    "        return -1\n",
    "    else:\n",
    "        return 0\n",
    "\n",
    "print(polynomial(-2, [1,-1, 2, 3]))"
   ]
  }
 ],
 "metadata": {
  "kernelspec": {
   "display_name": "base",
   "language": "python",
   "name": "python3"
  },
  "language_info": {
   "codemirror_mode": {
    "name": "ipython",
    "version": 3
   },
   "file_extension": ".py",
   "mimetype": "text/x-python",
   "name": "python",
   "nbconvert_exporter": "python",
   "pygments_lexer": "ipython3",
   "version": "3.11.2"
  }
 },
 "nbformat": 4,
 "nbformat_minor": 2
}
